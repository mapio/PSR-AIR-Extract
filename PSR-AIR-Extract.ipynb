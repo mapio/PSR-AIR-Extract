{
 "cells": [
  {
   "cell_type": "markdown",
   "metadata": {},
   "source": [
    "# Estrazione citazioni AIR nel formato richiesto per il PSR\n",
    "\n",
    "Per usare questo tool modificate la cella `In [1]:` in modo che la variabile `URL` contenga il link alla pagia di AIR che mostra tutti i record bibliografici che volete estrarre (racchiuso da singoli apici). \n",
    "\n",
    "Ad esempio, nel mio caso la pagina è quella relativa a tutti i record di [Massimo Santini](https://air.unimi.it/browse?type=author&authority=rp14947&sort_by=2&order=ASC&rpp=80&etal=0&submit_browse=Aggiorna) (osservate che ho aumentato il numero di record per pagina in modo che tutti i record siano su una stessa pagina).\n",
    "\n",
    "Quindi premete `shift + enter` su tale cella e sulla sccessiva (che non è necessario modificare). Vedrete comparire man mano i record bibliografici così come riportati nella riga `Citazione` del tab `Scheda comnpleta` raggiungibile seguendo il link di dettaglio di ciascuna pubblicazione."
   ]
  },
  {
   "cell_type": "code",
   "execution_count": null,
   "metadata": {},
   "outputs": [],
   "source": [
    "URL = 'https://air.unimi.it/browse?type=author&authority=rp14947&sort_by=2&order=ASC&rpp=80&etal=0&submit_browse=Aggiorna'"
   ]
  },
  {
   "cell_type": "code",
   "execution_count": null,
   "metadata": {
    "scrolled": false
   },
   "outputs": [],
   "source": [
    "from requests_html import HTMLSession\n",
    "\n",
    "session = HTMLSession()\n",
    "\n",
    "papers = list(filter(lambda _: _.startswith('https://air.unimi.it/handle/'), session.get(URL).html.absolute_links))\n",
    "tot = len(papers)\n",
    "for n, paper in enumerate(papers, 1):\n",
    "    print('{}/{}'.format(n, tot))\n",
    "    r = session.get(paper + '?mode=complete')\n",
    "    print(r.html.find('#dc\\.identifier\\.citation_content')[0].text)"
   ]
  }
 ],
 "metadata": {
  "kernelspec": {
   "display_name": "dir-PSR-AIR-Extract-cdc137c08b353067bfab6db84c8e8019",
   "language": "python",
   "name": "python3"
  },
  "language_info": {
   "codemirror_mode": {
    "name": "ipython",
    "version": 3
   },
   "file_extension": ".py",
   "mimetype": "text/x-python",
   "name": "python",
   "nbconvert_exporter": "python",
   "pygments_lexer": "ipython3",
   "version": "3.10.6"
  },
  "vscode": {
   "interpreter": {
    "hash": "baac07b034762c6b4839f0410a2f058bfe55a9a4a756f65a41d1b93411d53509"
   }
  }
 },
 "nbformat": 4,
 "nbformat_minor": 2
}
