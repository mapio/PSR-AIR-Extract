{
 "cells": [
  {
   "cell_type": "markdown",
   "metadata": {},
   "source": [
    "# Estrazione citazioni AIR nel formato richiesto per il PSR\n",
    "\n",
    "Per usare questo tool modificate la cella `In [1]:` in modo che la variabile `URL` contenga il link alla pagia di AIR che mostra tutti i record bibliografici che volete estrarre (racchiuso da singoli apici). \n",
    "\n",
    "Ad esempio, nel mio caso la pagina è quella relativa a tutti i record di [Massimo Santini](https://air.unimi.it/browse?type=author&authority=rp14947&sort_by=2&order=ASC&rpp=80&etal=0&submit_browse=Aggiorna) (osservate che ho aumentato il numero di record per pagina in modo che tutti i record siano su una stessa pagina).\n",
    "\n",
    "Quindi premete `shift + enter` su tale cella e sulla sccessiva (che non è necessario modificare). Vedrete comparire man mano i record bibliografici così come riportati nella riga `Citazione` del tab `Scheda comnpleta` raggiungibile seguendo il link di dettaglio di ciascuna pubblicazione."
   ]
  },
  {
   "cell_type": "code",
   "execution_count": 1,
   "metadata": {},
   "outputs": [],
   "source": [
    "URL = 'https://air.unimi.it/browse?type=author&authority=rp14947&sort_by=2&order=ASC&rpp=80&etal=0&submit_browse=Aggiorna'"
   ]
  },
  {
   "cell_type": "code",
   "execution_count": 2,
   "metadata": {
    "scrolled": false
   },
   "outputs": [
    {
     "name": "stdout",
     "output_type": "stream",
     "text": [
      "1/28\n",
      "Clique polynomials have a unique root of smallest modulus / M. Goldwurm, M. Santini. - In: INFORMATION PROCESSING LETTERS. - ISSN 0020-0190. - 75:3(2000), pp. 127-132.\n",
      "2/28\n",
      "On the circuit complexity of random generation problems for regular and context-free languages / M. Goldwurm, B.S. Palano, M. Santini - In: STACS 2001 / [a cura di] A. Ferreira, H. Reichel. - Berlin : Springer, 2001. - ISBN 9783540416951. - pp. 305-316 (( Intervento presentato al 18. convegno Annual Symposium on Theoretical Aspects of Computer Science (STACS) tenutosi a Dresden nel 2001.\n",
      "3/28\n",
      "Graph fibrations, graph isomorphism, and PageRank / P. Boldi, V. Lonati, M. Santini, S. Vigna. - In: RAIRO. INFORMATIQUE THEORIQUE ET APPLICATIONS. - ISSN 0988-3754. - 40:2(2006), pp. 227-253.\n",
      "4/28\n",
      "Permuting web and social graphs / P. Boldi, M. Santini, S. Vigna. - In: INTERNET MATHEMATICS. - ISSN 1542-7951. - 6:3(2010), pp. 257-283.\n",
      "5/28\n",
      "BUbiNG: Massive crawling for the masses / P. Boldi, A. Marino, M. Santini, S. Vigna - In: WWW 2014 Companion : Proceedings of the 23rd International Conference on World Wide Web[s.l] : ACM, 2014. - ISBN 9781450327459. - pp. 227-228 (( Intervento presentato al 23. convegno WWW tenutosi a Seoul nel 2014.\n",
      "6/28\n",
      "Approximation Algorithms for a Hierarchically Structured Bin Packing Problem / B. Codenotti, G. De Marco, M. Leoncini, M. Montagero, M. Santini. - In: INFORMATION PROCESSING LETTERS. - ISSN 0020-0190. - 89:5(2004 Mar), pp. 215-221.\n",
      "7/28\n",
      "Paradoxical effects in PageRank incremental computations / P. Boldi, M. Santini, S. Vigna. - In: INTERNET MATHEMATICS. - ISSN 1542-7951. - 2:3(2005), pp. 387-408.\n",
      "8/28\n",
      "The Number of Convex Permutominoes / P. Boldi, V. Lonati, M. Santini, R. Radicioni - In: Pre-proccedings of the 1st International conference on language and automata theory and applications : LATA 2007 : March 29-April 4, 2007 / [a cura di] Universitat Rovira i Virgili : Research Graoup on Mathematical Linguistics. - Terragona : Universitat Rovira i Virgili, 2007. - pp. 151-162 (( Intervento presentato al 1. convegno International Conference on Language and Automata Theory and Applications tenutosi a Tarragona, Spain nel 2007.\n",
      "9/28\n",
      "Genetic programming for financial time series prediction / M. SANTINI, A. TETTAMANZI - In: Genetic Programming : 4th European Conference, EuroGP 2001, Lake Como, Italy, April 18-20, 2001 : Proceedings / [a cura di] J. Miller [et al.]. - Berlin : Springer, 2001. - ISBN 9783540418993. - pp. 361-370 (( Intervento presentato al 4. convegno European Conference on Genetic Programming (EuroGP) tenutosi a Lake Como, Italy nel 2001.\n",
      "10/28\n",
      "The language observatory project (LOP) / Y. Mikami, P. Zavarsky, M.Z.A. Rozan, I. Suzuki, M. Takahashi, T. Maki, I.N. Ayob, P. Boldi, M. Santini, S. Vigna - In: The 14th International Conference on World Wide Web 2005 : Chiba, Japan May 10 - 14, 2005 : special interest tracks and posters / Allan Ellis, Tatsuya Hagino. - New York : ACM Press, 2005. - ISBN 1595930515. - pp. 990-991 (( Intervento presentato al 14. convegno International World Wide W eb Conference tenutosi a Chiba nel 2005.\n",
      "11/28\n",
      "Permuting web graphs / P. Boldi, M. Santini, S. Vigna - In: Algorithms and models for the web-graph 6th international workshop, WAW 2009, Barcelona, Spain, February 12-13, 2009 : proceedings / [a cura di] K. Avrachenkov, D. Donato, and N. Litvak. - Berlin : Springer, 2009. - ISBN 9783540959946. - pp. 116-126 (( convegno Algorithms and Models for the Web-Graph, 6th International Workshop, WAW 2009 tenutosi a Barcellona nel 2009.\n",
      "12/28\n",
      "PageRank as a function of the damping factor / P. Boldi, M. Santini, S. Vigna - In: The Fourteenth International World Wide Web Conference (WWW 2005): May 10-14, 2005, Nippon Convention Centre (Nakuhari messe), Chiba, Japan : Proceedings / Allan Ellis, Tatsuya Hagino. - New York : ACM Press, 2005. - ISBN 1595930469. - pp. 557-566 (( Intervento presentato al 14. convegno International World Wide W eb Conference tenutosi a Chiba nel 2005.\n",
      "13/28\n",
      "Temporal evolution of the UK web / I. Bordino, P. Boldi, D. Donato, M. Santini, S. Vigna - In: Proceedings [of the] IEEE International Conference on Data Mining Workshops : ICDM Workshops 2008 : 15-19 december 2008, Pisa, Italy / / [a cura di] F.Bonchi [et al.]. - Los Alamitos : IEEE Computer Society, 2008. - ISBN 9780769535036. - pp. 909-918 (( convegno IEEE International Conference on Workshops Data Mining Workshops tenutosi a Pisa, Italy nel 2008.\n",
      "14/28\n",
      "A reference collection for web spam / C. Castillo, D. Donato, L. Becchetti, P. Boldi, S. Leonardi, M. Santini, S. Vigna. - In: SIGIR FORUM. - ISSN 0163-5840. - 40:2(2006 Dec), pp. 11-24.\n",
      "15/28\n",
      "Liquid FM: recommending music through viscous democracy / P. Boldi, C. Monti, M. Santini, S. Vigna - In: IIR 2015 : Italian Information Retrieval Workshop / [a cura di] P. Boldi, R. Perego, F. Sebastiani. - Riedizione. - [s.l] : CEUR (http://ceur-ws.org), 2015 May 25. - pp. 1-12 (( Intervento presentato al 6. convegno Italian Information Retrieval tenutosi a Cagliari nel 2015.\n",
      "16/28\n",
      "BUbiNG: Massive Crawling for the Masses / P. Boldi, A. Marino, M. Santini, S. Vigna. - In: ACM TRANSACTIONS ON THE WEB. - ISSN 1559-1131. - 12:2(2018 Jun 02), pp. 12.12:1-12.12:26.\n",
      "17/28\n",
      "Random generation and approximate counting of ambiguously described combinatorial structures / M. Santini, M. Goldwurm, A. Bertoni - In: STACS 2000 : 17th Annual Symposium on Theoretical Aspects of Computer Science Lille, France, February 17-19, 2000 : Proceedings / [a cura di] H. Reichel, S. Tison. - Berlin : Springer, 2000. - ISBN 3540671412. - pp. 567-580 (( Intervento presentato al 17. convegno Annual Symposium on Theoretical Aspects of Computer Science (STACS) tenutosi a Lille nel 2000.\n",
      "18/28\n",
      "Random generation for finitely ambiguous context-free languages / M. SANTINI, A. BERTONI, M. GOLDWURM. - In: RAIRO. INFORMATIQUE THEORIQUE ET APPLICATIONS. - ISSN 0988-3754. - 35:6(2001), pp. 499-512.\n",
      "19/28\n",
      "A new lower bound on approximability of the ground state problem for tridimensional ising spin glasses / R. POSENATO, M. SANTINI. - In: INFORMATION PROCESSING LETTERS. - ISSN 0020-0190. - 68:4(1998 Nov), pp. 167-171.\n",
      "20/28\n",
      "Traps and pitfalls of topic-biased PageRank. / P. Boldi, R. Posenato, M. Santini, S. Vigna - In: Algorithms and Models for the Web-Graph : Fourth International Workshop, WAW 2006, Banff, Canada, November 30-December 1, 2006 : Revised Papers / [a cura di] W. Aiello, A. Broder, J. Janssen, E. Milios. - Berlin : Springer, 2008. - ISBN 9783540788072. - pp. 107-116 (( Intervento presentato al 4. convegno Workshop on Algorithms and Models for the Web-Graph tenutosi a Banff, Canada nel 2006.\n",
      "21/28\n",
      "Measuring with jugs. or : What if mathematicians were asked to defuse bombs / M. Santini, S. Vigna, P. Boldi. - In: THEORETICAL COMPUTER SCIENCE. - ISSN 0304-3975. - 282:2(2002), pp. 259-270.\n",
      "22/28\n",
      "Layered label propagation : a multiresolution coordinate-free ordering for compressing social networks / P. Boldi, M. Rosa, M. Santini, S. Vigna - In: Proceedings of the 20th international conference on World Wide WebNew York : ACM Press, 2011. - ISBN 9781450306324. - pp. 587-596 (( Intervento presentato al 20th. convegno International World Wide Web Conference tenutosi a Hyderabad, India nel 2011.\n",
      "23/28\n",
      "A large time-aware graph / P. Boldi, M. Santini, S. Vigna. - In: SIGIR FORUM. - ISSN 0163-5840. - 42:2(2008 Dec), pp. 33-38.\n",
      "24/28\n",
      "The Number of Convex Permutominoes / P. Boldi, V. Lonati, R. Radicioni, M. Santini. - In: INFORMATION AND COMPUTATION. - ISSN 0890-5401. - 206:9-11(2008 Sep), pp. 1074-1083.\n",
      "25/28\n",
      "Do your worst to make the best: Paradoxical effects in PageRank incremental computations / M. Santini, P. Boldi, S. Vigna - In: Algorithms and Models for theWeb-Graph : Third InternationalWorkshop,WAW 2004, Rome, Italy, October 16, 2004 : Proceeedings / [a cura di] S. Leonardi. - Berlin : Springer, 2004. - ISBN 9783540234272. - pp. 168-180 (( Intervento presentato al 3. convegno International Workshop on Algorithms and Models for the Web-Graph tenutosi a Rome, Italy nel 2004.\n",
      "26/28\n",
      "UbiCrawler : a scalable fully distributed web crawler / M. Santini, S. Vigna, P. Boldi, B. Codenotti. - In: SOFTWARE-PRACTICE & EXPERIENCE. - ISSN 0038-0644. - 34:8(2004), pp. 711-726.\n",
      "27/28\n"
     ]
    },
    {
     "name": "stdout",
     "output_type": "stream",
     "text": [
      "PageRank: functional dependencies / P. Boldi, M. Santini, S. Vigna. - In: ACM TRANSACTIONS ON INFORMATION SYSTEMS. - ISSN 1046-8188. - 27:4(2009), pp. 19.1-19.23.\n",
      "28/28\n",
      "DELIS dataset / P. Boldi, M. Santini, S. Vigna. - (2008).\n"
     ]
    }
   ],
   "source": [
    "from requests_html import HTMLSession\n",
    "\n",
    "session = HTMLSession()\n",
    "\n",
    "papers = list(filter(lambda _: _.startswith('https://air.unimi.it/handle/'), session.get(URL).html.absolute_links))\n",
    "tot = len(papers)\n",
    "for n, paper in enumerate(papers, 1):\n",
    "    print('{}/{}'.format(n, tot))\n",
    "    r = session.get(paper + '?mode=full.877')\n",
    "    for e in r.html.find('tr'):\n",
    "        k, v = e.find('td')\n",
    "        if k.text == 'Citazione:': \n",
    "            print(v.text)\n",
    "            break"
   ]
  }
 ],
 "metadata": {
  "kernelspec": {
   "display_name": "Python 3",
   "language": "python",
   "name": "python3"
  },
  "language_info": {
   "codemirror_mode": {
    "name": "ipython",
    "version": 3
   },
   "file_extension": ".py",
   "mimetype": "text/x-python",
   "name": "python",
   "nbconvert_exporter": "python",
   "pygments_lexer": "ipython3",
   "version": "3.7.3"
  }
 },
 "nbformat": 4,
 "nbformat_minor": 2
}
